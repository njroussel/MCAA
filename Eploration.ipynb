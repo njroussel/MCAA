{
 "cells": [
  {
   "cell_type": "code",
   "execution_count": 1,
   "metadata": {
    "collapsed": true,
    "scrolled": true
   },
   "outputs": [],
   "source": [
    "%matplotlib inline"
   ]
  },
  {
   "cell_type": "code",
   "execution_count": 47,
   "metadata": {
    "collapsed": true,
    "scrolled": true
   },
   "outputs": [],
   "source": [
    "import pythonRunner\n",
    "import matplotlib.pyplot as plt\n",
    "import numpy as np"
   ]
  },
  {
   "cell_type": "code",
   "execution_count": 48,
   "metadata": {
    "scrolled": true
   },
   "outputs": [],
   "source": [
    "plt.rcParams[\"figure.figsize\"] = (16, 5)"
   ]
  },
  {
   "cell_type": "code",
   "execution_count": 77,
   "metadata": {
    "collapsed": true,
    "scrolled": true
   },
   "outputs": [],
   "source": [
    "# Constants\n",
    "BETAS = [0.5, 1, 1.5, 2, 2.5, 3, 3.5, 4, 4.5, 5]\n",
    "ALPHAS = [0.5, 1, 1.5, 2, 2.5, 3, 3.5, 4, 4.5, 5]\n",
    "A_AND_B = [(a, b) for a in ALPHAS for b in BETAS]\n",
    "N = 1000\n",
    "M = int(ALPHA * N) \n",
    "T_FACTOR = 100 \n",
    "MEASURE_STEP = 1\n",
    "RUN_COUNT = 128\n",
    "THREAD_COUNT = 4"
   ]
  },
  {
   "cell_type": "code",
   "execution_count": null,
   "metadata": {
    "collapsed": true,
    "scrolled": true
   },
   "outputs": [],
   "source": [
    "measures = [pythonRunner.pythonRunner(beta, alpha, N, 100, MEASURE_STEP, RUN_COUNT, THREAD_COUNT) for alpha, beta in A_AND_B]"
   ]
  },
  {
   "cell_type": "markdown",
   "metadata": {},
   "source": [
    "# FIXED BETAS"
   ]
  },
  {
   "cell_type": "code",
   "execution_count": null,
   "metadata": {
    "scrolled": false
   },
   "outputs": [],
   "source": [
    "# Plot\n",
    "for betaOffset in range(len(BETAS)):\n",
    "    for i in range(len(ALPHAS)):\n",
    "        index = i * len(BETAS) + betaOffset\n",
    "        eMeasuresForAlpha, tmp = measures[index]\n",
    "        averageEMeasuresForAlpha = np.mean(eMeasuresForAlpha, axis=1)\n",
    "        plt.plot(averageEMeasuresForAlpha / int(ALPHAS[i] * N), label=str(ALPHAS[i]))\n",
    "    plt.xscale('log')\n",
    "    plt.legend(loc='best')\n",
    "    plt.title('Average normalized energy over mutations for beta=' + str(BETAS[betaOffset]))\n",
    "    plt.xlabel('Mutation count (log scale)')\n",
    "    plt.ylabel('Normalized energy')\n",
    "    plt.show()\n",
    "    \n",
    "    \n",
    "    for i in range(len(ALPHAS)):\n",
    "        index = i * len(BETAS) + betaOffset\n",
    "        tmp, overlapMeasuresForAlpha = measures[index]\n",
    "        overlapMeasuresForAlpha = np.mean(overlapMeasuresForAlpha, axis=1)\n",
    "        plt.plot(overlapMeasuresForAlpha, label=str(ALPHAS[i]))\n",
    "    plt.xscale('log')\n",
    "    plt.ylim(ymin=-1, ymax=1)\n",
    "    plt.legend(loc='best')\n",
    "    plt.title('Average overlap over mutations for beta=' + str(BETAS[betaOffset]))\n",
    "    plt.xlabel('Mutation count (log scale)')\n",
    "    plt.ylabel('Average overlap')\n",
    "    plt.show()"
   ]
  }
 ],
 "metadata": {
  "kernelspec": {
   "display_name": "Python 3",
   "language": "python",
   "name": "python3"
  },
  "language_info": {
   "codemirror_mode": {
    "name": "ipython",
    "version": 3
   },
   "file_extension": ".py",
   "mimetype": "text/x-python",
   "name": "python",
   "nbconvert_exporter": "python",
   "pygments_lexer": "ipython3",
   "version": "3.6.3"
  }
 },
 "nbformat": 4,
 "nbformat_minor": 2
}
